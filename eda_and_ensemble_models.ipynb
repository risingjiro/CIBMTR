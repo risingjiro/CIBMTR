{
 "cells": [
  {
   "cell_type": "markdown",
   "metadata": {},
   "source": [
    "#### ideas\n",
    "1. Classification -> Regression?\n",
    "2. \n"
   ]
  },
  {
   "cell_type": "code",
   "execution_count": null,
   "metadata": {},
   "outputs": [],
   "source": [
    "import warnings\n",
    "from pathlib import Path\n",
    "warnings.filterwarnings('ignore')\n",
    "import numpy as np\n",
    "import polars as pl\n",
    "import pandas as pd"
   ]
  },
  {
   "cell_type": "code",
   "execution_count": null,
   "metadata": {},
   "outputs": [],
   "source": [
    "import plotly.colors as pc\n",
    "import plotly.express as px\n",
    "import plotly.graph_objects as go\n",
    "import plotly.io as pio\n",
    "# pio.renderers.default = 'iframe'\n",
    "pio.renderers.default = 'notebook'"
   ]
  },
  {
   "cell_type": "code",
   "execution_count": null,
   "metadata": {},
   "outputs": [],
   "source": [
    "pd.options.display.max_columns = None"
   ]
  },
  {
   "cell_type": "code",
   "execution_count": null,
   "metadata": {},
   "outputs": [],
   "source": [
    "import lightgbm as lgb\n",
    "import xgboost as xgb\n",
    "from scipy.stats import rankdata\n",
    "from sklearn.model_selection import KFold"
   ]
  },
  {
   "cell_type": "code",
   "execution_count": null,
   "metadata": {},
   "outputs": [],
   "source": [
    "from catboost import CatBoostRegressor\n",
    "from lifelines import CoxPHFitter, KaplanMeierFitter, NelsonAalenFitter"
   ]
  },
  {
   "cell_type": "code",
   "execution_count": null,
   "metadata": {},
   "outputs": [],
   "source": [
    "class CFG:\n",
    "\n",
    "    train_path = Path('input/train.csv')\n",
    "    test_path = Path('input/test.csv')\n",
    "    subm_path = Path('input/sample_submission.csv')\n",
    "\n",
    "    color = '#EADDCA'\n",
    "\n",
    "    batch_size = 32768\n",
    "    early_stop = 300\n",
    "    penalizer = 0.01\n",
    "    n_splits = 5\n",
    "\n",
    "    weights = [0.5, 0.5, 4.0, 2.0, 4.0, 2.0, 3.0, 3.0]\n",
    "\n",
    "    ctb_params = {\n",
    "        'loss_function': 'RMSE',\n",
    "        'learning_rate': 0.03,\n",
    "        'random_state': 42,\n",
    "        'task_type': 'CPU',\n",
    "        'num_trees': 6000,\n",
    "        'subsample': 0.85,\n",
    "        'reg_lambda': 8.0,\n",
    "        'depth': 8\n",
    "    }\n",
    "\n",
    "    lgb_params = {\n",
    "        'objective': 'regression',\n",
    "        'min_child_samples': 32,\n",
    "        'num_iterations': 6000,\n",
    "        'learning_rate': 0.03,\n",
    "        'extra_trees': True,\n",
    "        'reg_lambda': 8.0,\n",
    "        'reg_alpha': 0.1,\n",
    "        'num_leaves': 64,\n",
    "        'metric': 'rmse',\n",
    "        'max_depth': 8,\n",
    "        'device': 'cpu',\n",
    "        'max_bin': 128,\n",
    "        'verbose': -1,\n",
    "        'seed': 42\n",
    "    }\n",
    "\n",
    "    lgb_params_tweedie = {\n",
    "        'objective': 'tweedie',\n",
    "        'min_child_samples': 32,\n",
    "        'num_iterations': 6000,\n",
    "        'learning_rate': 0.03,\n",
    "        'extra_trees': True,\n",
    "        'reg_lambda': 8.0,\n",
    "        'reg_alpha': 0.1,\n",
    "        'num_leaves': 64,\n",
    "        'metric': 'rmse',\n",
    "        'max_depth': 8,\n",
    "        'device': 'cpu',\n",
    "        'max_bin': 128,\n",
    "        'verbose': -1,\n",
    "        'seed': 42\n",
    "    }\n",
    "\n",
    "    cox1_params = {\n",
    "        'grow_policy': 'Depthwise',\n",
    "        'min_child_samples': 8,\n",
    "        'loss_function': 'Cox',\n",
    "        'learning_rate': 0.03,\n",
    "        'random_state': 42,\n",
    "        'task_type': 'CPU',\n",
    "        'num_trees': 6000,\n",
    "        'subsample': 0.85,\n",
    "        'reg_lambda': 8.0,\n",
    "        'depth': 8\n",
    "    }\n",
    "\n",
    "    cox2_params = {\n",
    "        'grow_policy': 'Lossguide',\n",
    "        'loss_function': 'Cox',\n",
    "        'learning_rate': 0.03,\n",
    "        'random_state': 42,\n",
    "        'task_type': 'CPU',\n",
    "        'num_trees': 6000,\n",
    "        'subsample': 0.85,\n",
    "        'reg_lambda': 8.0,\n",
    "        'num_leaves': 32,\n",
    "        'depth': 8\n",
    "    }"
   ]
  },
  {
   "cell_type": "markdown",
   "metadata": {},
   "source": [
    "## Feature Engineering"
   ]
  },
  {
   "cell_type": "code",
   "execution_count": null,
   "metadata": {},
   "outputs": [],
   "source": [
    "class FE:\n",
    "\n",
    "    def __init__(self, batch_size):\n",
    "        self.batch_size = batch_size\n",
    "\n",
    "    def load_data(self, path):\n",
    "\n",
    "        return pl.read_csv(path, batch_size=self.batch_size)\n",
    "\n",
    "    def cast_datatypes(self, df):\n",
    "\n",
    "        num_cols = [\n",
    "            'hla_high_res_8',\n",
    "            'hla_low_res_8',\n",
    "            'hla_high_res_6',\n",
    "            'hla_low_res_6',\n",
    "            'hla_high_res_10',\n",
    "            'hla_low_res_10',\n",
    "            'hla_match_dqb1_high',\n",
    "            'hla_match_dqb1_low',\n",
    "            'hla_match_drb1_high',\n",
    "            'hla_match_drb1_low',\n",
    "            'hla_nmdp_6',\n",
    "            'year_hct',\n",
    "            'hla_match_a_high',\n",
    "            'hla_match_a_low',\n",
    "            'hla_match_b_high',\n",
    "            'hla_match_b_low',\n",
    "            'hla_match_c_high',\n",
    "            'hla_match_c_low',\n",
    "            'donor_age',\n",
    "            'age_at_hct',\n",
    "            'comorbidity_score',\n",
    "            'karnofsky_score',\n",
    "            'efs',\n",
    "            'efs_time'\n",
    "        ]\n",
    "\n",
    "        # fill missings\n",
    "        for col in df.columns:\n",
    "            if col in num_cols:\n",
    "                df = df.with_columns(pl.col(col).fill_null(-1).cast(pl.Float32))  \n",
    "\n",
    "            else:\n",
    "                df = df.with_columns(pl.col(col).fill_null('Unknown').cast(pl.String))  \n",
    "\n",
    "        return df.with_columns(pl.col('ID').cast(pl.Int32))\n",
    "\n",
    "    def info(self, df):\n",
    "        \n",
    "        print(f'\\nShape of dataframe: {df.shape}') \n",
    "        \n",
    "        mem = df.memory_usage().sum() / 1024**2\n",
    "        print('Memory usage: {:.2f} MB\\n'.format(mem))\n",
    "\n",
    "        display(df.head())\n",
    "\n",
    "    def apply_fe(self, path):\n",
    "\n",
    "        df = self.load_data(path)\n",
    "        df = self.cast_datatypes(df)\n",
    "        df = df.to_pandas()\n",
    "\n",
    "        self.info(df)\n",
    "        \n",
    "        cat_cols = [col for col in df.columns if df[col].dtype == pl.String]\n",
    "\n",
    "        return df, cat_cols"
   ]
  },
  {
   "cell_type": "code",
   "execution_count": null,
   "metadata": {},
   "outputs": [],
   "source": [
    "fe = FE(CFG.batch_size)"
   ]
  },
  {
   "cell_type": "code",
   "execution_count": null,
   "metadata": {},
   "outputs": [],
   "source": [
    "train_data, cat_cols = fe.apply_fe(CFG.train_path)"
   ]
  },
  {
   "cell_type": "code",
   "execution_count": null,
   "metadata": {},
   "outputs": [],
   "source": [
    "test_data, _ = fe.apply_fe(CFG.test_path)"
   ]
  },
  {
   "cell_type": "markdown",
   "metadata": {},
   "source": [
    "## EDA"
   ]
  },
  {
   "cell_type": "code",
   "execution_count": null,
   "metadata": {},
   "outputs": [],
   "source": [
    "class EDA:\n",
    "    \n",
    "    def __init__(self, color, data):\n",
    "        self._color = color  \n",
    "        self.data = data\n",
    "\n",
    "    def _template(self, fig, title):\n",
    "        \n",
    "        fig.update_layout(\n",
    "            title=title,\n",
    "            title_x=0.5, \n",
    "            plot_bgcolor='rgba(74, 74, 74, 1)',  \n",
    "            paper_bgcolor='rgba(74, 74, 74, 1)', \n",
    "            font=dict(color=self._color),\n",
    "            margin=dict(l=72, r=72, t=72, b=72), \n",
    "            height=720\n",
    "        )\n",
    "        \n",
    "        return fig\n",
    "\n",
    "    def distribution_plot(self, col, title):\n",
    "        \n",
    "        fig = px.histogram(\n",
    "            self.data,\n",
    "            x=col,\n",
    "            nbins=100,\n",
    "            color_discrete_sequence=[self._color]\n",
    "        )\n",
    "        \n",
    "        fig.update_layout(\n",
    "            xaxis_title='Values',\n",
    "            yaxis_title='Count',\n",
    "            bargap=0.1,\n",
    "            xaxis=dict(gridcolor='grey'),\n",
    "            yaxis=dict(gridcolor='grey', zerolinecolor='grey')\n",
    "        )\n",
    "        \n",
    "        fig.update_traces(hovertemplate='Value: %{x:.2f}<br>Count: %{y:,}')\n",
    "        \n",
    "        fig = self._template(fig, f'{title}')\n",
    "        fig.show()\n",
    "        \n",
    "    def _plot_cv(self, scores, title, metric='C-Index'):\n",
    "        \n",
    "        fold_scores = [round(score, 4) for score in scores]\n",
    "        mean_score = round(np.mean(scores), 4)\n",
    "\n",
    "        fig = go.Figure()\n",
    "\n",
    "        fig.add_trace(go.Scatter(\n",
    "            x = list(range(1, len(fold_scores) + 1)),\n",
    "            y = fold_scores,\n",
    "            mode = 'markers', \n",
    "            name = 'Fold Scores',\n",
    "            marker = dict(size = 27, color=self._color, symbol='diamond'),\n",
    "            text = [f'{score:.3f}' for score in fold_scores],\n",
    "            hovertemplate = 'Fold %{x}: %{text}<extra></extra>',\n",
    "            hoverlabel = dict(font=dict(size=18))  \n",
    "        ))\n",
    "\n",
    "        fig.add_trace(go.Scatter(\n",
    "            x = [1, len(fold_scores)],\n",
    "            y = [mean_score, mean_score],\n",
    "            mode = 'lines',\n",
    "            name = f'Mean: {mean_score:.3f}',\n",
    "            line = dict(dash = 'dash', color = '#FFBF00'),\n",
    "            hoverinfo = 'none'\n",
    "        ))\n",
    "        \n",
    "        fig.update_layout(\n",
    "            title = f'{title} | Cross-validation Mean {metric} Score: {mean_score}',\n",
    "            xaxis_title = 'Fold',\n",
    "            yaxis_title = f'{metric} Score',\n",
    "            plot_bgcolor = 'rgba(74, 74, 74, 1)',  \n",
    "            paper_bgcolor = 'rgba(74, 74, 74, 1)',\n",
    "            font = dict(color=self._color), \n",
    "            xaxis = dict(\n",
    "                gridcolor = 'grey',\n",
    "                tickmode = 'linear',\n",
    "                tick0 = 1,\n",
    "                dtick = 1,\n",
    "                range = [0.5, len(fold_scores) + 0.5],\n",
    "                zerolinecolor = 'grey'\n",
    "            ),\n",
    "            yaxis = dict(\n",
    "                gridcolor = 'grey',\n",
    "                zerolinecolor = 'grey'\n",
    "            )\n",
    "        )\n",
    "        \n",
    "        fig.show()"
   ]
  },
  {
   "cell_type": "markdown",
   "metadata": {},
   "source": [
    "## Make Custom Targets"
   ]
  },
  {
   "cell_type": "code",
   "execution_count": null,
   "metadata": {},
   "outputs": [],
   "source": [
    "class Targets:\n",
    "\n",
    "    def __init__(self, data, cat_cols, penalizer):\n",
    "        self.data = data\n",
    "        self.cat_cols = cat_cols\n",
    "        self._penalizer = penalizer\n",
    "\n",
    "    def create_target1(self):   \n",
    "\n",
    "        # Convert categorical columns to numeric since CoxPH accepts only numeric covariates (features)\n",
    "        data = pd.get_dummies(self.data, columns=self.cat_cols, drop_first=True).drop('ID', axis=1)\n",
    "        \n",
    "        cph = CoxPHFitter(penalizer=self._penalizer)\n",
    "        cph.fit(data, duration_col='efs_time', event_col='efs')\n",
    "\n",
    "        self.data['target1'] = cph.predict_partial_hazard(data)       \n",
    "\n",
    "        return self.data\n",
    "\n",
    "    def create_target2(self):        \n",
    "        \n",
    "        kmf = KaplanMeierFitter()          \n",
    "        kmf.fit(durations=self.data['efs_time'], event_observed=self.data['efs'])\n",
    "\n",
    "        self.data['target2'] = kmf.survival_function_at_times(self.data['efs_time']).values\n",
    "\n",
    "        return self.data\n",
    "\n",
    "    def create_target3(self):        \n",
    "        \n",
    "        naf = NelsonAalenFitter()\n",
    "        naf.fit(durations=self.data['efs_time'], event_observed=self.data['efs'])\n",
    "\n",
    "        self.data['target3'] = -naf.cumulative_hazard_at_times(self.data['efs_time']).values\n",
    "\n",
    "        return self.data\n",
    "\n",
    "    def create_target4(self):\n",
    "\n",
    "        self.data['target4'] = self.data.efs_time.copy()\n",
    "        self.data.loc[self.data.efs == 0, 'target4'] *= -1\n",
    "\n",
    "        return self.data"
   ]
  },
  {
   "cell_type": "markdown",
   "metadata": {},
   "source": [
    "## Make Models"
   ]
  },
  {
   "cell_type": "code",
   "execution_count": null,
   "metadata": {},
   "outputs": [],
   "source": [
    "class MD:\n",
    "    \n",
    "    def __init__(self, color, data, cat_cols, penalizer, n_splits, early_stop):\n",
    "        \n",
    "        self.eda = EDA(color, data)\n",
    "        self.targets = Targets(data, cat_cols, penalizer)\n",
    "        \n",
    "        self.data = data\n",
    "        self.cat_cols = cat_cols\n",
    "        self._n_splits = n_splits\n",
    "        self._early_stop = early_stop\n",
    "\n",
    "    def create_targets(self):\n",
    "\n",
    "        self.data = self.targets.create_target1()\n",
    "        self.data = self.targets.create_target2()\n",
    "        self.data = self.targets.create_target3()\n",
    "        self.data = self.targets.create_target4()\n",
    "\n",
    "        return self.data\n",
    "        \n",
    "    def train_model(self, params, target, title):\n",
    "        \n",
    "        for col in self.cat_cols:\n",
    "            self.data[col] = self.data[col].astype('category')\n",
    "            \n",
    "        X = self.data.drop(['ID', 'efs', 'efs_time', 'target1', 'target2', 'target3', 'target4'], axis=1)\n",
    "        y = self.data[target]\n",
    "        \n",
    "        models, fold_scores = [], []\n",
    "            \n",
    "        cv = KFold(n_splits=self._n_splits, shuffle=True, random_state=42)\n",
    "                \n",
    "        oof_preds = np.zeros(len(X))\n",
    "    \n",
    "        for fold, (train_index, valid_index) in enumerate(cv.split(X, y)):\n",
    "                \n",
    "            X_train = X.iloc[train_index]\n",
    "            X_valid = X.iloc[valid_index]\n",
    "                \n",
    "            y_train = y.iloc[train_index]\n",
    "            y_valid = y.iloc[valid_index]\n",
    "\n",
    "    \n",
    "            if title.startswith('LightGBM'):\n",
    "                        \n",
    "                model = lgb.LGBMRegressor(**params)\n",
    "                        \n",
    "                model.fit(\n",
    "                    X_train, \n",
    "                    y_train,  \n",
    "                    eval_set=[(X_valid, y_valid)],\n",
    "                    eval_metric='rmse',\n",
    "                    callbacks=[lgb.early_stopping(self._early_stop, verbose=0), lgb.log_evaluation(0)]\n",
    "                )\n",
    "                        \n",
    "            elif title.startswith('CatBoost'):\n",
    "                        \n",
    "                model = CatBoostRegressor(**params, verbose=0, cat_features=self.cat_cols)\n",
    "                        \n",
    "                model.fit(\n",
    "                    X_train,\n",
    "                    y_train,\n",
    "                    eval_set=(X_valid, y_valid),\n",
    "                    early_stopping_rounds=self._early_stop, \n",
    "                    verbose=0\n",
    "                )           \n",
    "\n",
    "            # elif title.startswith('XGBoost'):\n",
    "\n",
    "            #     dtrain = xgb.DMatrix(data=X_train, label=y_train, enable_categorical=True)\n",
    "            #     dvalid = xgb.DMatrix(data=X_valid, label=y_valid, enable_categorical=True)\n",
    "\n",
    "            #     model = xgb.train(\n",
    "            #         params,\n",
    "            #         dtrain,\n",
    "            #         self._early_stop,\n",
    "            #         [(dvalid, \"val\")],\n",
    "            #         verbose=0\n",
    "            #     )\n",
    "\n",
    "            models.append(model)\n",
    "                \n",
    "            oof_preds[valid_index] = model.predict(X_valid)\n",
    "\n",
    "            y_true_fold = self.data.iloc[valid_index][['ID', 'efs', 'efs_time', 'race_group']].copy()\n",
    "            y_pred_fold = self.data.iloc[valid_index][['ID']].copy()\n",
    "            \n",
    "            y_pred_fold['prediction'] = oof_preds[valid_index]\n",
    "    \n",
    "            fold_score = score(y_true_fold, y_pred_fold, 'ID')\n",
    "            fold_scores.append(fold_score)\n",
    "                \n",
    "        self.eda._plot_cv(fold_scores, title)\n",
    "            \n",
    "        y_true = self.data[['ID', 'efs', 'efs_time', 'race_group']].copy()\n",
    "        y_pred = self.data[['ID']].copy()\n",
    "        \n",
    "        y_pred['prediction'] = oof_preds\n",
    "            \n",
    "        c_index_score = score(y_true.copy(), y_pred.copy(), 'ID')\n",
    "        print(f'\\nOverall C-Index for {title}: {c_index_score:.4f}\\n')\n",
    "        \n",
    "        return models, oof_preds\n",
    "\n",
    "    def infer_model(self, data, models):\n",
    "        \n",
    "        data = data.drop(['ID'], axis=1)\n",
    "\n",
    "        for col in self.cat_cols:\n",
    "            data[col] = data[col].astype('category')\n",
    "\n",
    "        return np.mean([model.predict(data) for model in models], axis=0)"
   ]
  },
  {
   "cell_type": "code",
   "execution_count": null,
   "metadata": {},
   "outputs": [],
   "source": [
    "md = MD(CFG.color, train_data, cat_cols, CFG.penalizer, CFG.n_splits, CFG.early_stop)"
   ]
  },
  {
   "cell_type": "code",
   "execution_count": null,
   "metadata": {},
   "outputs": [],
   "source": [
    "train_data = md.create_targets()"
   ]
  },
  {
   "cell_type": "code",
   "execution_count": null,
   "metadata": {},
   "outputs": [],
   "source": [
    "md.eda.distribution_plot('target1', 'Cox Target')"
   ]
  },
  {
   "cell_type": "code",
   "execution_count": null,
   "metadata": {},
   "outputs": [],
   "source": [
    "md.eda.distribution_plot('target2', 'Kaplan-Meier Target')"
   ]
  },
  {
   "cell_type": "code",
   "execution_count": null,
   "metadata": {},
   "outputs": [],
   "source": [
    "md.eda.distribution_plot('target3', 'Nelson-Aalen Target')"
   ]
  },
  {
   "cell_type": "code",
   "execution_count": null,
   "metadata": {},
   "outputs": [],
   "source": [
    "md.eda.distribution_plot('target4', 'Target for Cox-Loss Models')"
   ]
  },
  {
   "cell_type": "code",
   "execution_count": null,
   "metadata": {},
   "outputs": [],
   "source": [
    "fe.info(train_data)"
   ]
  },
  {
   "cell_type": "markdown",
   "metadata": {},
   "source": [
    "### Models with Cox Target"
   ]
  },
  {
   "cell_type": "code",
   "execution_count": null,
   "metadata": {},
   "outputs": [],
   "source": [
    "# training\n",
    "ctb1_models, ctb1_oof_preds = md.train_model(CFG.ctb_params, target='target1', title='CatBoost')"
   ]
  },
  {
   "cell_type": "code",
   "execution_count": null,
   "metadata": {},
   "outputs": [],
   "source": [
    "# training\n",
    "lgb1_models, lgb1_oof_preds = md.train_model(CFG.lgb_params, target='target1', title='LightGBM')"
   ]
  },
  {
   "cell_type": "code",
   "execution_count": null,
   "metadata": {},
   "outputs": [],
   "source": [
    "# training\n",
    "lgb1_tweedie_models, lgb1_tweedie_oof_preds = md.train_model(CFG.lgb_params_tweedie, target='target1', title='LightGBM_tweedie')"
   ]
  },
  {
   "cell_type": "code",
   "execution_count": null,
   "metadata": {},
   "outputs": [],
   "source": [
    "# predicting\n",
    "ctb1_preds = md.infer_model(test_data, ctb1_models)"
   ]
  },
  {
   "cell_type": "code",
   "execution_count": null,
   "metadata": {},
   "outputs": [],
   "source": [
    "# predicting\n",
    "lgb1_preds = md.infer_model(test_data, lgb1_models)"
   ]
  },
  {
   "cell_type": "code",
   "execution_count": null,
   "metadata": {},
   "outputs": [],
   "source": [
    "# predicting\n",
    "lgb1_tweedie_preds = md.infer_model(test_data, lgb1_tweedie_models)"
   ]
  },
  {
   "cell_type": "markdown",
   "metadata": {},
   "source": [
    "### Models with Kaplan-Meier Target"
   ]
  },
  {
   "cell_type": "code",
   "execution_count": null,
   "metadata": {},
   "outputs": [],
   "source": [
    "ctb2_models, ctb2_oof_preds = md.train_model(CFG.ctb_params, target='target2', title='CatBoost')"
   ]
  },
  {
   "cell_type": "code",
   "execution_count": null,
   "metadata": {},
   "outputs": [],
   "source": [
    "lgb2_models, lgb2_oof_preds = md.train_model(CFG.lgb_params, target='target2', title='LightGBM')"
   ]
  },
  {
   "cell_type": "code",
   "execution_count": null,
   "metadata": {},
   "outputs": [],
   "source": [
    "lgb2_tweedie_models, lgb2_tweedie_oof_preds = md.train_model(CFG.lgb_params_tweedie, target='target2', title='LightGBM_tweedie')"
   ]
  },
  {
   "cell_type": "code",
   "execution_count": null,
   "metadata": {},
   "outputs": [],
   "source": [
    "ctb2_preds = md.infer_model(test_data, ctb2_models)"
   ]
  },
  {
   "cell_type": "code",
   "execution_count": null,
   "metadata": {},
   "outputs": [],
   "source": [
    "lgb2_preds = md.infer_model(test_data, lgb2_models)"
   ]
  },
  {
   "cell_type": "code",
   "execution_count": null,
   "metadata": {},
   "outputs": [],
   "source": [
    "lgb2_tweedie_preds = md.infer_model(test_data, lgb2_tweedie_models)"
   ]
  },
  {
   "cell_type": "markdown",
   "metadata": {},
   "source": [
    "### Models with Nelson-Aalen Target"
   ]
  },
  {
   "cell_type": "code",
   "execution_count": null,
   "metadata": {},
   "outputs": [],
   "source": [
    "ctb3_models, ctb3_oof_preds = md.train_model(CFG.ctb_params, target='target3', title='CatBoost')"
   ]
  },
  {
   "cell_type": "code",
   "execution_count": null,
   "metadata": {},
   "outputs": [],
   "source": [
    "lgb3_models, lgb3_oof_preds = md.train_model(CFG.lgb_params, target='target3', title='LightGBM')"
   ]
  },
  {
   "cell_type": "code",
   "execution_count": null,
   "metadata": {},
   "outputs": [],
   "source": [
    "lgb3_tweedie_models, lgb3_tweedie_oof_preds = md.train_model(CFG.lgb_tweedie_params, target='target3', title='LightGBM_tweedie')"
   ]
  },
  {
   "cell_type": "code",
   "execution_count": null,
   "metadata": {},
   "outputs": [],
   "source": [
    "ctb3_preds = md.infer_model(test_data, ctb3_models)"
   ]
  },
  {
   "cell_type": "code",
   "execution_count": null,
   "metadata": {},
   "outputs": [],
   "source": [
    "lgb3_preds = md.infer_model(test_data, lgb3_models)"
   ]
  },
  {
   "cell_type": "code",
   "execution_count": null,
   "metadata": {},
   "outputs": [],
   "source": [
    "lgb3_tweedie_preds = md.infer_model(test_data, lgb3_tweedie_models)"
   ]
  },
  {
   "cell_type": "markdown",
   "metadata": {},
   "source": [
    "### Cox-Loss Models"
   ]
  },
  {
   "cell_type": "code",
   "execution_count": null,
   "metadata": {},
   "outputs": [],
   "source": [
    "cox1_models, cox1_oof_preds = md.train_model(CFG.cox1_params, target='target4', title='CatBoost')"
   ]
  },
  {
   "cell_type": "code",
   "execution_count": null,
   "metadata": {},
   "outputs": [],
   "source": [
    "cox2_models, cox2_oof_preds = md.train_model(CFG.cox2_params, target='target4', title='CatBoost')"
   ]
  },
  {
   "cell_type": "code",
   "execution_count": null,
   "metadata": {},
   "outputs": [],
   "source": [
    "cox1_preds = md.infer_model(test_data, cox1_models)"
   ]
  },
  {
   "cell_type": "code",
   "execution_count": null,
   "metadata": {},
   "outputs": [],
   "source": [
    "cox2_preds = md.infer_model(test_data, cox2_models)"
   ]
  },
  {
   "cell_type": "markdown",
   "metadata": {},
   "source": [
    "### Ensemble Models"
   ]
  },
  {
   "cell_type": "code",
   "execution_count": null,
   "metadata": {},
   "outputs": [],
   "source": [
    "oof_preds = [\n",
    "    ctb1_oof_preds, \n",
    "    lgb1_oof_preds,\n",
    "    lgb1_tweedie_oof_preds,\n",
    "    \n",
    "    ctb2_oof_preds, \n",
    "    lgb2_oof_preds, \n",
    "    lgb2_tweedie_oof_preds,\n",
    "    \n",
    "    ctb3_oof_preds, \n",
    "    lgb3_oof_preds, \n",
    "    lgb3_tweedie_oof_preds,\n",
    "    \n",
    "    cox1_oof_preds,\n",
    "    cox2_oof_preds\n",
    "]"
   ]
  },
  {
   "cell_type": "code",
   "execution_count": null,
   "metadata": {},
   "outputs": [],
   "source": [
    "ranked_oof_preds = np.array([rankdata(p) for p in oof_preds])"
   ]
  },
  {
   "cell_type": "code",
   "execution_count": null,
   "metadata": {},
   "outputs": [],
   "source": [
    "ensemble_oof_preds = np.sum([w * p for w, p in zip(CFG.weights, ranked_oof_preds)], axis=0)"
   ]
  },
  {
   "cell_type": "code",
   "execution_count": null,
   "metadata": {},
   "outputs": [],
   "source": [
    "y_true = train_data[['ID', 'efs', 'efs_time', 'race_group']].copy()\n",
    "y_pred = train_data[['ID']].copy()\n",
    "        \n",
    "y_pred['prediction'] = ensemble_oof_preds\n",
    "            \n",
    "c_index_score = score(y_true.copy(), y_pred.copy(), 'ID')\n",
    "print(f'\\nOverall C-Index for Ensemble model: {c_index_score:.4f}')"
   ]
  },
  {
   "cell_type": "code",
   "execution_count": null,
   "metadata": {},
   "outputs": [],
   "source": [
    "preds = [\n",
    "    ctb1_preds, \n",
    "    lgb1_preds, \n",
    "    lgb1_tweedie_preds,\n",
    "    \n",
    "    ctb2_preds, \n",
    "    lgb2_preds, \n",
    "    lgb2_tweedie_preds,\n",
    "    \n",
    "    ctb3_preds, \n",
    "    lgb3_preds,\n",
    "    lgb3_tweedie_preds,\n",
    "    \n",
    "    cox1_preds,\n",
    "    cox2_preds\n",
    "]"
   ]
  },
  {
   "cell_type": "code",
   "execution_count": null,
   "metadata": {},
   "outputs": [],
   "source": [
    "ranked_preds = np.array([rankdata(p) for p in preds])"
   ]
  },
  {
   "cell_type": "code",
   "execution_count": null,
   "metadata": {},
   "outputs": [],
   "source": [
    "ensemble_preds = np.sum([w * p for w, p in zip(CFG.weights, ranked_preds)], axis=0)"
   ]
  },
  {
   "cell_type": "code",
   "execution_count": null,
   "metadata": {},
   "outputs": [],
   "source": [
    "subm_data = pd.read_csv(CFG.subm_path)\n",
    "subm_data['prediction'] = ensemble_preds"
   ]
  },
  {
   "cell_type": "code",
   "execution_count": null,
   "metadata": {},
   "outputs": [],
   "source": [
    "subm_data.to_csv('submission.csv', index=False)\n",
    "display(subm_data.head())"
   ]
  },
  {
   "cell_type": "code",
   "execution_count": null,
   "metadata": {},
   "outputs": [],
   "source": []
  },
  {
   "cell_type": "code",
   "execution_count": null,
   "metadata": {},
   "outputs": [],
   "source": []
  }
 ],
 "metadata": {
  "kernelspec": {
   "display_name": "Python 3",
   "language": "python",
   "name": "python3"
  },
  "language_info": {
   "codemirror_mode": {
    "name": "ipython",
    "version": 3
   },
   "file_extension": ".py",
   "mimetype": "text/x-python",
   "name": "python",
   "nbconvert_exporter": "python",
   "pygments_lexer": "ipython3",
   "version": "3.12.8"
  }
 },
 "nbformat": 4,
 "nbformat_minor": 2
}
